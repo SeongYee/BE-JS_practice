{
 "cells": [
  {
   "cell_type": "markdown",
   "metadata": {},
   "source": [
    "## Event 실습 문제 \n",
    "\n",
    "문제 1.  \n",
    "현재 코드에서는 input#userInput에 입력한 내용이 그대로 span#output에 출력된다. 실행 결과를 참고하여 badWords에 포함된 단어가 사용자 입력에 포함되어 있을 경우, span#output에서 해당 단어를 **로 바꿔 출력하도록 filterMessage 함수를 완성하시오.\n",
    "\n",
    "요구사항 \n",
    "- badWords 배열에 있는 단어가 사용자 입력에 포함되어 있으면 교체 한다.\n",
    "\t- forEach Array Helper Method를 활용하여 badWords배열을 순회한다.\n",
    "- 같은 badWord가 여러번 등장해도 모두 교체되어야 한다.\n",
    "- skeleton_1.html을 수정해서 구현한다. \n",
    "\n",
    "이미지  \n",
    "\t<img src=\"images/image1.jpg\" width=\"30%\" height=\"1%\"/>\n",
    "\t<img src=\"images/image2.jpg\" width=\"30%\" height=\"1%\"/>"
   ]
  },
  {
   "cell_type": "markdown",
   "metadata": {},
   "source": [
    "문제 2.  \n",
    "회원 가입시, 서버에 데이터가 전송되기 전에 js로 비밀번호의 유효성 검사를 진행하고자 한다. 제시된 조건을 만족하지 않으면, 에러메시지를 화면에 출력하도록 코드를 완성하시오.\n",
    "\n",
    "요구사항 \n",
    "- password1이 8자를 넘지 않으면 span#warning1 에 '비밀번호는 8자 이상이어야 합니다.' 에러메시지 출력\n",
    "- password2가 password1과 같지 않으면 '비밀번호가 일치하지 않습니다.' 에러메시지 출력\n",
    "- 문제가 없을시 에러메시지 삭제 \n",
    "- skeleton_2.html을 수정해서 구현한다. \n",
    "\n",
    "이미지  \n",
    "\t<img src=\"images/image3.jpg\" width=\"30%\" height=\"1%\"/>"
   ]
  },
  {
   "cell_type": "markdown",
   "metadata": {},
   "source": [
    "문제 3.  \n",
    "요구사항을 만족하는 코드를 작성하세요\n",
    "\n",
    "요구사항 \n",
    "마우스 움직임에 따라 각 요소의 콘텐츠를 다음과 같이 변경하시오.\n",
    "1. h1 요소\n",
    "  - 마우스가 h1 요소 위에 올라가면 h1의 콘텐츠가 새로운 문자열로 변경된다.\n",
    "  - 마우스가 h1 요소 바깥으로 나가면 h1의 콘텐츠가 기존 문자열로 변경된다.\n",
    "2. h2 요소\n",
    "  - h2 요소를 더블클릭하면 폰트 컬러가 crimson으로 변경된다.\n",
    "  - 다시 더블클릭하면 폰트 컬러 crimson이 해제된다.\n",
    "3. p 요소\n",
    "  - p 요소 위에서 마우스 휠을 움직이면 \n",
    "  - 랜덤 문자열은 제공된 'randomTexts'를 사용한다.\n",
    "  - Javascript의 내장 객체 'Math'를 활용한다. ('floor()', 'random()')\n",
    "4. 참고 문서\n",
    "  - https://developer.mozilla.org/en-US/docs/Web/API/Element#events  \n",
    "  - https://developer.mozilla.org/en-US/docs/Web/JavaScript/Reference/Global_Objects/Math\n",
    "5. skeleton_3.html 을 활용한다.  "
   ]
  },
  {
   "cell_type": "markdown",
   "metadata": {},
   "source": [
    "문제 4.  \n",
    "요구사항을 만족하는 코드를 작성하세요\n",
    "\n",
    "요구사항 \n",
    "- 'text-input' class인 input 요소\n",
    "  1. 작성하는 텍스트는 실시간으로 p 요소 컨텐츠에 입력된다.\n",
    "  2. input 요소에 focus가 잡히면\n",
    "    2.1 p 요소의 폰트 크기를 2rem으로 변경한다. (fs-2 클래스 스타일 속성 활용)\n",
    "    2.2 p 요소의 배경 컬러를 회색으로 변경한다. (bg-color 클래스 스타일 속성 활용)\n",
    "  3. input 요소에 focus가 해제되면\n",
    "    3.1 focus가 잡혔을 때 적용한 폰트 크기와 배경 컬러 스타일을 모두 해제한다.\n",
    "  4. 작성하는 텍스트 길이가 5 초과라면\n",
    "    4.1 'warning' class인 span 요소를 화면에 출력한다.\n",
    "    4.2 p 요소를 화면에 출력하지 않는다.\n",
    "  5. 작성하는 텍스트 길이가 5 이하라면\n",
    "    5.1 'warning' class인 span 요소를 화면에 출력하지 않는다.\n",
    "    5.2 p 요소를 화면에 출력한다.\n",
    "- 'color-input' class인 input 요소\n",
    "  1. 작성하는 텍스트가 CSS의 폰트 컬러 값으로 p 요소 컨텐츠에 실시간 반영된다.\n",
    "5. skeleton_4.html 을 활용한다.  "
   ]
  }
 ],
 "metadata": {
  "language_info": {
   "name": "python"
  }
 },
 "nbformat": 4,
 "nbformat_minor": 2
}
