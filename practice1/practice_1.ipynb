{
 "cells": [
  {
   "cell_type": "markdown",
   "metadata": {},
   "source": [
    "## DOM 실습 문제 \n",
    "\n",
    "JS를 활용하여 DOM을 조작하는 방법을 연습하려고 한다.\n",
    "모든 문제는 HTML을 직접 수정하지 않는다! \n",
    "\n",
    "1. skeleton_1.html을 javascript 와 DOM 조작을 이용해서 아래와 같은 이미지로 구현하세요.\n",
    "\n",
    "    <img src=\"images/image1.jpg\" width=\"30%\" height=\"1%\"/>"
   ]
  },
  {
   "cell_type": "markdown",
   "metadata": {},
   "source": [
    "2. skeleton_2.html를 아래 조건대로 js를 작성하여, 아래 이미지와 같이 출력되도록 한다.\n",
    "\n",
    "- header 요소의 class에 부여되어야 할 값이 id에 부여되었다\n",
    "- id에 부여된 값을 class에 부여하시오.\n",
    "- header 요소의 id 속성을 삭제한다.\n",
    "- img 태그의 src 속성 값이 'images/image2.jpg'가 되도록 한다.\n",
    "\n",
    "    <img src=\"images/image3.jpg\" width=\"30%\" height=\"1%\"/>"
   ]
  },
  {
   "cell_type": "markdown",
   "metadata": {},
   "source": [
    "3. skeleton_3.html 을 적절한 선택자를 사용하여 아래 이미지와 같이 구현한다. 조건은 아래와 같다.\n",
    "\n",
    "- Hello world! 콘텐츠를 가지는 p 태그를 선택하여 pTag 변수에 할당하시오.\n",
    "- pTag 클래스에 'text-red' 클래스를 추가하여 스타일을 적용하시오. \n",
    "- a 태그를 선택하여 aTag 변수에 할당하시오.\n",
    "- aTag의 속성 href에 'https://www.google.com/'를 적용하시오.\n",
    "\n",
    "    <img src=\"images/image4.jpg\" width=\"30%\" height=\"1%\"/>\n"
   ]
  },
  {
   "cell_type": "markdown",
   "metadata": {},
   "source": [
    "4. skeleton_4.html 을 수정하여 아래 이미지와 같이 구현하고, 이미지에 나와있는 html 구조를 똑같이 구현한다. \n",
    "\n",
    "- HTML 마크업을 직접 수정하지 않는다.\n",
    "- JS를 작성하여 필요한 요소를 생성하고, 적절한 속성을 부여한다.\n",
    "\n",
    "    <img src=\"images/image5.jpg\" width=\"100%\" height=\"50%\"/>\n"
   ]
  }
 ],
 "metadata": {
  "language_info": {
   "name": "python"
  }
 },
 "nbformat": 4,
 "nbformat_minor": 2
}
