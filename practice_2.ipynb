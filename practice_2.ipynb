{
 "cells": [
  {
   "cell_type": "markdown",
   "metadata": {},
   "source": [
    "## 실습문제 1 - 1\n",
    "\n",
    "이전에 진행중인 movies 를 그대로 이어서 진행한다.\n",
    "\n",
    "1. 영화 생성하는 페이지에서 생성할 영화를 제출할 input을 만들어 값을 입력한다.\n",
    "\n",
    "2. 제출을 누르면 메인 페이지로 이동해서 입력한 영화제목을 아래 사진과 같이 출력한다.\n",
    "\n",
    "\n",
    "### 결과 화면\n",
    "<img src=\"practice_images/image8.jpg\" width=\"30%\" height=\"30%\"/>\n",
    "<img src=\"practice_images/image9.jpg\" width=\"30%\" height=\"30%\"/>\n"
   ]
  },
  {
   "cell_type": "markdown",
   "metadata": {},
   "source": [
    "## 실습문제 1 - 2\n",
    "\n",
    "DTL을 이용해서 제출한 영화가 없는 경우에 출력되는 None 문구 대신 \"영화가 없습니다\" 를 출력합니다.\n",
    "\n",
    "\n",
    "### 결과 화면\n",
    "<img src=\"practice_images/image10.jpg\" width=\"30%\" height=\"30%\"/>\n"
   ]
  },
  {
   "cell_type": "markdown",
   "metadata": {},
   "source": [
    "## 실습문제 1 - 3\n",
    "\n",
    "영화를 생성하고 나타난 목록에 있는 영화를 클릭할 경우, 영화의 상세내용을 볼 수 있는 영화 상세 페이지를 만듭니다.\n",
    "\n",
    "\n",
    "\n",
    "\n",
    "### 결과 화면\n",
    "<img src=\"practice_images/image10.jpg\" width=\"30%\" height=\"30%\"/>\n",
    "<img src=\"practice_images/image13.jpg\" width=\"30%\" height=\"30%\"/>\n",
    "<img src=\"practice_images/image12.jpg\" width=\"30%\" height=\"30%\"/>\n"
   ]
  },
  {
   "cell_type": "markdown",
   "metadata": {},
   "source": [
    "## 실습문제 1 - 4\n",
    "\n",
    "1. accounts 의 app을 새로 생성한다. \n",
    "\n",
    "2. urls 을 project에서 관리하지 않고, 각 app에서 url을 관리하도록 한다. \n",
    "\n",
    "3. /accounts/login/ 경로로 요청을 보내면 login 화면이 나타난다.\n",
    "로그인 화면은 아래와 같이 구성한다. \n",
    "\n",
    "4. base.html 에 로그인 탭을 추가한다. \n",
    "\n",
    "\n",
    "### 결과 화면\n",
    "<img src=\"practice_images/image14.jpg\" width=\"30%\" height=\"30%\"/>\n"
   ]
  },
  {
   "cell_type": "markdown",
   "metadata": {},
   "source": [
    "## 실습문제 2\n",
    "\n",
    "아래 제시된 정보를 참고하여 사용자가 /dinner/<저녁메뉴>/<인원수>/로 요청을\n",
    "\n",
    "보냈을 때, URL을 통해 넘긴 값을 html에서 보여주는 페이지를 만드시오.\n",
    "1) intro/는 startproject 명령어로 생성되는 project 디렉토리이다.\n",
    "2) pages/는 startapp 명령어로 생성되는 application 디렉토리이다.\n",
    "\n",
    "\n",
    "<img src=\"practice_images/image11.jpg\" width=\"30%\" height=\"1%\"/>\n",
    "\n",
    "\n",
    "### 작성해야 하는 파일 정보\n",
    "\n",
    "1. intro/urls.py\n",
    "dinner/<저녁메뉴>/<인원수>/ 형태의 요청 경로가 명시되는 파일\n",
    "2. Variable Routing의 개념을 활용한다.\n",
    "저녁메뉴는 string, 인원수는 integer이다.\n",
    "3. pages/views.py\n",
    "Variable Routing을 통해 전달 받은 인자를 html 파일에서 사용할 수 있도록 렌더링 할 때 넘겨준다.\n",
    "4. templates/dinner.html\n",
    "html 마크업이 작성된 문서이다.\n",
    "views.py에서 넘어온 데이터가 해당 문서에서 출력된다.\n",
    "\n",
    "### 결과 화면\n",
    "<img src=\"practice_images/image22.jpg\" width=\"30%\" height=\"30%\"/>\n"
   ]
  },
  {
   "cell_type": "markdown",
   "metadata": {},
   "source": [
    "## 실습문제 2\n",
    "\n",
    "아래 제시된 정보를 참고하여 사용자가 /lotto/로 요청을 보냈을 때, 로또 당첨번호와\n",
    "\n",
    "보너스 번호, 1000회 분량의 무작위 로또를 구매하고, 1000회차 로또 추첨 결과를 가져오는 api를 활용해서 구매한 1000회 분량의 로또의 당첨 정보를 보여주는 페이지를 만드시오.\n",
    "1) practice/는 startproject 명령어로 생성되는 project 디렉토리이다.\n",
    "2) pages/는 startapp 명령어로 생성되는 application 디렉토리이다.\n",
    "\n",
    "로또 api 요청 주소 예시\n",
    "    \n",
    "    https://www.dhlottery.co.kr/common.do?method=getLottoNumber&drwNo=1000\n",
    "\n",
    "\n",
    "<img src=\"practice_images/image33.jpg\" width=\"30%\" height=\"1%\"/>\n",
    "\n",
    "\n",
    "### 작성해야 하는 파일 정보\n",
    "\n",
    "1. practice/urls.py\n",
    "lotto/ 형태의 요청 경로가 명시되는 파일\n",
    "2. pages/views.py\n",
    "API에서 제공하는 특정  회차 로또 당첨 번호와 보너스 번호를 받아와 \n",
    "무작위로 생성한 1000회 분량의 로또 번호를 비교하고, \n",
    "각 등수 별 당첨 횟수를 기록하여 lotto.html을 렌더링 할 때\n",
    "해당 값들을 넘겨주는 함수가 작성된 파일\n",
    "3. pages/templates/pages/lotto.html\n",
    "views.py에서 넘어온 데이터 출력하는 html 파일.\n",
    "\n",
    "### 결과 화면\n",
    "<img src=\"practice_images/image44.jpg\" width=\"30%\" height=\"30%\"/>\n"
   ]
  }
 ],
 "metadata": {
  "language_info": {
   "name": "python"
  }
 },
 "nbformat": 4,
 "nbformat_minor": 2
}
